{
 "cells": [
  {
   "cell_type": "code",
   "execution_count": 136,
   "metadata": {},
   "outputs": [],
   "source": [
    "from keras.models import Sequential\n",
    "from keras.layers.normalization import BatchNormalization\n",
    "from keras.layers.convolutional import Conv2D\n",
    "from keras.layers.convolutional import MaxPooling2D\n",
    "from keras.layers.core import Activation, Flatten, Dropout, Dense\n",
    "from keras import backend as K\n",
    "from keras.preprocessing.image import ImageDataGenerator\n",
    "from keras.optimizers import Adam\n",
    "from keras.preprocessing import image\n",
    "from keras.preprocessing.image import img_to_array\n",
    "from sklearn.model_selection import train_test_split"
   ]
  },
  {
   "cell_type": "code",
   "execution_count": 137,
   "metadata": {},
   "outputs": [],
   "source": [
    "import cv2\n",
    "import tensorflow as tf\n",
    "import numpy as np\n",
    "import csv\n",
    "from PIL import Image"
   ]
  },
  {
   "cell_type": "code",
   "execution_count": 138,
   "metadata": {},
   "outputs": [],
   "source": [
    "width=256\n",
    "height=256\n",
    "depth=3\n",
    "\n",
    "inputShape=(width,height,depth)"
   ]
  },
  {
   "cell_type": "code",
   "execution_count": 139,
   "metadata": {},
   "outputs": [],
   "source": [
    "model = Sequential()\n",
    "\n",
    "model.add(Conv2D(8, (3, 3),input_shape=inputShape))\n",
    "model.add(Activation(\"relu\"))\n",
    "model.add(MaxPooling2D(pool_size=(3, 3)))\n",
    "model.add(Dropout(0.1))\n",
    "\n",
    "model.add(Conv2D(16, (3, 3)))\n",
    "model.add(Activation(\"relu\"))\n",
    "\n",
    "model.add(Conv2D(32, (3, 3)))\n",
    "model.add(Activation(\"relu\"))\n",
    "model.add(MaxPooling2D(pool_size=(2, 2)))\n",
    "model.add(Dropout(0.1))\n",
    "\n",
    "model.add(Conv2D(32, (3, 3)))\n",
    "model.add(Activation(\"relu\"))\n",
    "model.add(MaxPooling2D(pool_size=(2, 2)))\n",
    "model.add(Dropout(0.1))\n",
    "\n",
    "model.add(Conv2D(64, (3, 3)))\n",
    "model.add(Activation(\"relu\"))\n",
    "\n",
    "model.add(Conv2D(128, (3, 3)))\n",
    "model.add(Activation(\"relu\"))\n",
    "model.add(MaxPooling2D(pool_size=(2, 2)))\n",
    "model.add(Dropout(0.15))\n",
    "\n",
    "model.add(Flatten())\n",
    "\n",
    "model.add(Dense(1024))\n",
    "model.add(Activation(\"relu\"))\n",
    "model.add(Dropout(0.1))\n",
    "\n",
    "model.add(Dense(units=2,activation='softmax'))\n",
    ""
   ]
  },
  {
   "cell_type": "code",
   "execution_count": 140,
   "metadata": {},
   "outputs": [],
   "source": [
    "epochs = 10\n",
    "learning_rate = 0.001\n",
    "batch_size = 8\n",
    "\n",
    "opt = Adam(lr=learning_rate, decay=learning_rate / epochs)\n",
    "model.compile(loss='sparse_categorical_crossentropy',optimizer=opt,metrics=[\"sparse_categorical_accuracy\"])"
   ]
  },
  {
   "cell_type": "code",
   "execution_count": 141,
   "metadata": {},
   "outputs": [
    {
     "output_type": "stream",
     "name": "stdout",
     "text": "Model: \"sequential_12\"\n_________________________________________________________________\nLayer (type)                 Output Shape              Param #   \n=================================================================\nconv2d_67 (Conv2D)           (None, 254, 254, 8)       224       \n_________________________________________________________________\nactivation_78 (Activation)   (None, 254, 254, 8)       0         \n_________________________________________________________________\nmax_pooling2d_45 (MaxPooling (None, 84, 84, 8)         0         \n_________________________________________________________________\ndropout_56 (Dropout)         (None, 84, 84, 8)         0         \n_________________________________________________________________\nconv2d_68 (Conv2D)           (None, 82, 82, 16)        1168      \n_________________________________________________________________\nactivation_79 (Activation)   (None, 82, 82, 16)        0         \n_________________________________________________________________\nconv2d_69 (Conv2D)           (None, 80, 80, 32)        4640      \n_________________________________________________________________\nactivation_80 (Activation)   (None, 80, 80, 32)        0         \n_________________________________________________________________\nmax_pooling2d_46 (MaxPooling (None, 40, 40, 32)        0         \n_________________________________________________________________\ndropout_57 (Dropout)         (None, 40, 40, 32)        0         \n_________________________________________________________________\nconv2d_70 (Conv2D)           (None, 38, 38, 32)        9248      \n_________________________________________________________________\nactivation_81 (Activation)   (None, 38, 38, 32)        0         \n_________________________________________________________________\nmax_pooling2d_47 (MaxPooling (None, 19, 19, 32)        0         \n_________________________________________________________________\ndropout_58 (Dropout)         (None, 19, 19, 32)        0         \n_________________________________________________________________\nconv2d_71 (Conv2D)           (None, 17, 17, 64)        18496     \n_________________________________________________________________\nactivation_82 (Activation)   (None, 17, 17, 64)        0         \n_________________________________________________________________\nconv2d_72 (Conv2D)           (None, 15, 15, 128)       73856     \n_________________________________________________________________\nactivation_83 (Activation)   (None, 15, 15, 128)       0         \n_________________________________________________________________\nmax_pooling2d_48 (MaxPooling (None, 7, 7, 128)         0         \n_________________________________________________________________\ndropout_59 (Dropout)         (None, 7, 7, 128)         0         \n_________________________________________________________________\nflatten_12 (Flatten)         (None, 6272)              0         \n_________________________________________________________________\ndense_23 (Dense)             (None, 1024)              6423552   \n_________________________________________________________________\nactivation_84 (Activation)   (None, 1024)              0         \n_________________________________________________________________\ndropout_60 (Dropout)         (None, 1024)              0         \n_________________________________________________________________\ndense_24 (Dense)             (None, 2)                 2050      \n=================================================================\nTotal params: 6,533,234\nTrainable params: 6,533,234\nNon-trainable params: 0\n_________________________________________________________________\n"
    }
   ],
   "source": [
    "model.summary()"
   ]
  },
  {
   "cell_type": "code",
   "execution_count": 159,
   "metadata": {
    "tags": [
     "outputPrepend"
    ]
   },
   "outputs": [
    {
     "output_type": "stream",
     "name": "stdout",
     "text": "Epoch: 0\nEpoch 1/1\n499/499 [==============================] - 18s 37ms/step - loss: 0.7191 - sparse_categorical_accuracy: 0.6533\n(240, 256, 256, 3)\nEpoch 1/1\n240/240 [==============================] - 5s 23ms/step - loss: 0.5324 - sparse_categorical_accuracy: 0.8125\nEpoch: 1\nEpoch 1/1\n499/499 [==============================] - 18s 37ms/step - loss: 0.5005 - sparse_categorical_accuracy: 0.7816\n(240, 256, 256, 3)\nEpoch 1/1\n240/240 [==============================] - 5s 23ms/step - loss: 0.3074 - sparse_categorical_accuracy: 0.8833\nEpoch: 2\nEpoch 1/1\n499/499 [==============================] - 19s 37ms/step - loss: 0.3849 - sparse_categorical_accuracy: 0.8477\n(240, 256, 256, 3)\nEpoch 1/1\n240/240 [==============================] - 5s 23ms/step - loss: 0.2951 - sparse_categorical_accuracy: 0.8875\nEpoch: 3\nEpoch 1/1\n499/499 [==============================] - 17s 35ms/step - loss: 0.3672 - sparse_categorical_accuracy: 0.8717\n(240, 256, 256, 3)\nEpoch 1/1\n240/240 [==============================] - 6s 23ms/step - loss: 0.2852 - sparse_categorical_accuracy: 0.9125\nEpoch: 4\nEpoch 1/1\n499/499 [==============================] - 18s 36ms/step - loss: 0.2898 - sparse_categorical_accuracy: 0.8958\n(240, 256, 256, 3)\nEpoch 1/1\n240/240 [==============================] - 6s 23ms/step - loss: 0.3092 - sparse_categorical_accuracy: 0.8708\nEpoch: 5\nEpoch 1/1\n499/499 [==============================] - 19s 38ms/step - loss: 0.2690 - sparse_categorical_accuracy: 0.9018\n(240, 256, 256, 3)\nEpoch 1/1\n240/240 [==============================] - 6s 24ms/step - loss: 0.2372 - sparse_categorical_accuracy: 0.8958\nEpoch: 6\nEpoch 1/1\n499/499 [==============================] - 20s 40ms/step - loss: 0.2634 - sparse_categorical_accuracy: 0.8978\n(240, 256, 256, 3)\nEpoch 1/1\n240/240 [==============================] - 6s 23ms/step - loss: 0.1676 - sparse_categorical_accuracy: 0.9250\nEpoch: 7\nEpoch 1/1\n499/499 [==============================] - 19s 38ms/step - loss: 0.2355 - sparse_categorical_accuracy: 0.9058\n(240, 256, 256, 3)\nEpoch 1/1\n240/240 [==============================] - 5s 23ms/step - loss: 0.1786 - sparse_categorical_accuracy: 0.9417\nEpoch: 8\nEpoch 1/1\n499/499 [==============================] - 18s 37ms/step - loss: 0.2393 - sparse_categorical_accuracy: 0.9218\n(240, 256, 256, 3)\nEpoch 1/1\n240/240 [==============================] - 5s 23ms/step - loss: 0.1938 - sparse_categorical_accuracy: 0.9333\nEpoch: 9\nEpoch 1/1\n499/499 [==============================] - 20s 39ms/step - loss: 0.1869 - sparse_categorical_accuracy: 0.9118\n(240, 256, 256, 3)\nEpoch 1/1\n240/240 [==============================] - 5s 23ms/step - loss: 0.1535 - sparse_categorical_accuracy: 0.9375\n"
    }
   ],
   "source": [
    "#model.load_weights('bumps.h5')\n",
    "for i in range(epochs):\n",
    "    print('Epoch:',i)\n",
    "    \n",
    "    X_train=list()\n",
    "    y_train=list()\n",
    "    with open('./Train_label.csv') as csv_file:\n",
    "        csv_reader = csv.reader(csv_file, delimiter=',')\n",
    "        line_count = 0\n",
    "        cnt=1\n",
    "        for row in csv_reader:\n",
    "            if(cnt%500==0):\n",
    "                X_train=np.asarray(X_train)\n",
    "                X_train = X_train.reshape(-1,256, 256,3)\n",
    "                X_train=np.array(X_train)   \n",
    "                y_train=np.array(y_train)           \n",
    "                model.fit(X_train,y_train,batch_size=batch_size)\n",
    "                X_train=list()\n",
    "                y_train=list()\n",
    "                pil_im = Image.open(row[1], 'r')\n",
    "                #imshow(np.asarray(pil_im))\n",
    "                a=np.asarray(pil_im,dtype=\"float32\" )\n",
    "\n",
    "                a=a/255.0\n",
    "                X_train.append(a)\n",
    "                b=row[2]\n",
    "                y_train.append(int(b))\n",
    "                cnt+=1\n",
    "            else:\n",
    "                #print(row[1],row[2])\n",
    "                pil_im = Image.open(row[1], 'r')\n",
    "                #imshow(np.asarray(pil_im))\n",
    "                a=np.asarray(pil_im,dtype=\"float32\" )\n",
    "\n",
    "                a=a/255.0\n",
    "                # print(a.shape,row[1],row[2])\n",
    "                X_train.append(a)\n",
    "                b=row[2]\n",
    "                y_train.append(int(b))\n",
    "                cnt+=1\n",
    "\n",
    "\n",
    "    X_train=np.asarray(X_train)\n",
    "    print(X_train.shape)\n",
    "    X_train = X_train.reshape(-1,256, 256,3)\n",
    "    X_train=np.array(X_train)   \n",
    "    y_train=np.array(y_train)            \n",
    "    model.fit(X_train,y_train)\n",
    "    model.save('bumps.h5')"
   ]
  },
  {
   "cell_type": "code",
   "execution_count": 143,
   "metadata": {},
   "outputs": [],
   "source": [
    "model.save('bumps.h5')"
   ]
  },
  {
   "cell_type": "code",
   "execution_count": 144,
   "metadata": {},
   "outputs": [],
   "source": [
    "model.load_weights('bumps.h5')"
   ]
  },
  {
   "cell_type": "code",
   "execution_count": 145,
   "metadata": {
    "tags": [
     "outputPrepend",
     "outputPrepend",
     "outputPrepend",
     "outputPrepend",
     "outputPrepend",
     "outputPrepend",
     "outputPrepend",
     "outputPrepend",
     "outputPrepend",
     "outputPrepend",
     "outputPrepend",
     "outputPrepend",
     "outputPrepend",
     "outputPrepend",
     "outputPrepend",
     "outputPrepend",
     "outputPrepend",
     "outputPrepend",
     "outputPrepend",
     "outputPrepend",
     "outputPrepend",
     "outputPrepend",
     "outputPrepend",
     "outputPrepend",
     "outputPrepend",
     "outputPrepend",
     "outputPrepend",
     "outputPrepend",
     "outputPrepend",
     "outputPrepend",
     "outputPrepend",
     "outputPrepend",
     "outputPrepend",
     "outputPrepend",
     "outputPrepend",
     "outputPrepend",
     "outputPrepend",
     "outputPrepend",
     "outputPrepend",
     "outputPrepend",
     "outputPrepend",
     "outputPrepend",
     "outputPrepend",
     "outputPrepend",
     "outputPrepend",
     "outputPrepend"
    ]
   },
   "outputs": [
    {
     "output_type": "error",
     "ename": "TypeError",
     "evalue": "append() takes exactly one argument (0 given)",
     "traceback": [
      "\u001b[1;31m---------------------------------------------------------------------------\u001b[0m",
      "\u001b[1;31mTypeError\u001b[0m                                 Traceback (most recent call last)",
      "\u001b[1;32m<ipython-input-145-54669362312a>\u001b[0m in \u001b[0;36m<module>\u001b[1;34m\u001b[0m\n\u001b[0;32m     20\u001b[0m \u001b[1;31m#         y_test=row[2]\u001b[0m\u001b[1;33m\u001b[0m\u001b[1;33m\u001b[0m\u001b[1;33m\u001b[0m\u001b[0m\n\u001b[0;32m     21\u001b[0m         \u001b[0mpredict_list\u001b[0m\u001b[1;33m.\u001b[0m\u001b[0mappend\u001b[0m\u001b[1;33m(\u001b[0m\u001b[0mnp\u001b[0m\u001b[1;33m.\u001b[0m\u001b[0margmax\u001b[0m\u001b[1;33m(\u001b[0m\u001b[0mprediction\u001b[0m\u001b[1;33m[\u001b[0m\u001b[1;36m0\u001b[0m\u001b[1;33m]\u001b[0m\u001b[1;33m)\u001b[0m\u001b[1;33m)\u001b[0m\u001b[1;33m\u001b[0m\u001b[1;33m\u001b[0m\u001b[0m\n\u001b[1;32m---> 22\u001b[1;33m         \u001b[0mactual_list\u001b[0m\u001b[1;33m.\u001b[0m\u001b[0mappend\u001b[0m\u001b[1;33m(\u001b[0m\u001b[1;33m)\u001b[0m\u001b[1;33m\u001b[0m\u001b[1;33m\u001b[0m\u001b[0m\n\u001b[0m\u001b[0;32m     23\u001b[0m         \u001b[1;32mif\u001b[0m\u001b[1;33m(\u001b[0m\u001b[0mnp\u001b[0m\u001b[1;33m.\u001b[0m\u001b[0margmax\u001b[0m\u001b[1;33m(\u001b[0m\u001b[0mprediction\u001b[0m\u001b[1;33m[\u001b[0m\u001b[1;36m0\u001b[0m\u001b[1;33m]\u001b[0m\u001b[1;33m)\u001b[0m\u001b[1;33m==\u001b[0m\u001b[0mint\u001b[0m\u001b[1;33m(\u001b[0m\u001b[0my_test\u001b[0m\u001b[1;33m)\u001b[0m\u001b[1;33m)\u001b[0m\u001b[1;33m:\u001b[0m\u001b[1;33m\u001b[0m\u001b[1;33m\u001b[0m\u001b[0m\n\u001b[0;32m     24\u001b[0m             \u001b[0mcorrect\u001b[0m\u001b[1;33m+=\u001b[0m\u001b[1;36m1\u001b[0m\u001b[1;33m\u001b[0m\u001b[1;33m\u001b[0m\u001b[0m\n",
      "\u001b[1;31mTypeError\u001b[0m: append() takes exactly one argument (0 given)"
     ]
    }
   ],
   "source": [
    "predict_list=[]\n",
    "actual_list=[]\n",
    "correct=0\n",
    "total=0\n",
    "with open('./Test_label.csv') as csv_file:\n",
    "    csv_reader = csv.reader(csv_file, delimiter=',')\n",
    "    for row in csv_reader:\n",
    "        \n",
    "        y_test=row[2]\n",
    "        #X_test=list()\n",
    "        pil_im = Image.open(row[1], 'r')\n",
    "        X_test=np.asarray(pil_im,dtype=\"float\" )\n",
    "        X_test=X_test/255.0\n",
    "        #X_test.append(a)\n",
    "        #X_test=np.asarray(X_test)\n",
    "        X_test = X_test.reshape(-1,256, 256,3)\n",
    "        prediction = list(model.predict(X_test))\n",
    "#         print('Prediction|Actual')\n",
    "#         print(np.argmax(prediction[0]),row[2])\n",
    "#         y_test=row[2]\n",
    "        predict_list.append(np.argmax(prediction[0]))\n",
    "        actual_list.append()\n",
    "        if(np.argmax(prediction[0])==int(y_test)):\n",
    "            correct+=1\n",
    "            total+=1\n",
    "        else:\n",
    "            total+=1\n",
    "        \n",
    "        #print(prediction[0][0],prediction[0][1],prediction[0][2],prediction[0][3],row[2])\n",
    "        cur_acc=(correct/total)*100.0\n",
    "        print('Current accuracy is:{0}%'.format(cur_acc))\n",
    "acc=(correct/total)*100.0\n",
    "print('Sparse-categorical-accuracy(Final) is: {0}%'.format(acc))"
   ]
  },
  {
   "cell_type": "code",
   "execution_count": 146,
   "metadata": {},
   "outputs": [],
   "source": [
    "from sklearn.metrics import confusion_matrix"
   ]
  },
  {
   "cell_type": "code",
   "execution_count": 147,
   "metadata": {},
   "outputs": [
    {
     "output_type": "error",
     "ename": "ValueError",
     "evalue": "Found input variables with inconsistent numbers of samples: [0, 1]",
     "traceback": [
      "\u001b[1;31m---------------------------------------------------------------------------\u001b[0m",
      "\u001b[1;31mValueError\u001b[0m                                Traceback (most recent call last)",
      "\u001b[1;32m<ipython-input-147-32126dbb0f16>\u001b[0m in \u001b[0;36m<module>\u001b[1;34m\u001b[0m\n\u001b[1;32m----> 1\u001b[1;33m \u001b[0mconfusion_matrix\u001b[0m\u001b[1;33m(\u001b[0m\u001b[0mactual_list\u001b[0m\u001b[1;33m,\u001b[0m\u001b[0mpredict_list\u001b[0m\u001b[1;33m)\u001b[0m\u001b[1;33m\u001b[0m\u001b[1;33m\u001b[0m\u001b[0m\n\u001b[0m",
      "\u001b[1;32m~\\Anaconda3\\lib\\site-packages\\sklearn\\metrics\\classification.py\u001b[0m in \u001b[0;36mconfusion_matrix\u001b[1;34m(y_true, y_pred, labels, sample_weight)\u001b[0m\n\u001b[0;32m    251\u001b[0m \u001b[1;33m\u001b[0m\u001b[0m\n\u001b[0;32m    252\u001b[0m     \"\"\"\n\u001b[1;32m--> 253\u001b[1;33m     \u001b[0my_type\u001b[0m\u001b[1;33m,\u001b[0m \u001b[0my_true\u001b[0m\u001b[1;33m,\u001b[0m \u001b[0my_pred\u001b[0m \u001b[1;33m=\u001b[0m \u001b[0m_check_targets\u001b[0m\u001b[1;33m(\u001b[0m\u001b[0my_true\u001b[0m\u001b[1;33m,\u001b[0m \u001b[0my_pred\u001b[0m\u001b[1;33m)\u001b[0m\u001b[1;33m\u001b[0m\u001b[1;33m\u001b[0m\u001b[0m\n\u001b[0m\u001b[0;32m    254\u001b[0m     \u001b[1;32mif\u001b[0m \u001b[0my_type\u001b[0m \u001b[1;32mnot\u001b[0m \u001b[1;32min\u001b[0m \u001b[1;33m(\u001b[0m\u001b[1;34m\"binary\"\u001b[0m\u001b[1;33m,\u001b[0m \u001b[1;34m\"multiclass\"\u001b[0m\u001b[1;33m)\u001b[0m\u001b[1;33m:\u001b[0m\u001b[1;33m\u001b[0m\u001b[1;33m\u001b[0m\u001b[0m\n\u001b[0;32m    255\u001b[0m         \u001b[1;32mraise\u001b[0m \u001b[0mValueError\u001b[0m\u001b[1;33m(\u001b[0m\u001b[1;34m\"%s is not supported\"\u001b[0m \u001b[1;33m%\u001b[0m \u001b[0my_type\u001b[0m\u001b[1;33m)\u001b[0m\u001b[1;33m\u001b[0m\u001b[1;33m\u001b[0m\u001b[0m\n",
      "\u001b[1;32m~\\Anaconda3\\lib\\site-packages\\sklearn\\metrics\\classification.py\u001b[0m in \u001b[0;36m_check_targets\u001b[1;34m(y_true, y_pred)\u001b[0m\n\u001b[0;32m     69\u001b[0m     \u001b[0my_pred\u001b[0m \u001b[1;33m:\u001b[0m \u001b[0marray\u001b[0m \u001b[1;32mor\u001b[0m \u001b[0mindicator\u001b[0m \u001b[0mmatrix\u001b[0m\u001b[1;33m\u001b[0m\u001b[1;33m\u001b[0m\u001b[0m\n\u001b[0;32m     70\u001b[0m     \"\"\"\n\u001b[1;32m---> 71\u001b[1;33m     \u001b[0mcheck_consistent_length\u001b[0m\u001b[1;33m(\u001b[0m\u001b[0my_true\u001b[0m\u001b[1;33m,\u001b[0m \u001b[0my_pred\u001b[0m\u001b[1;33m)\u001b[0m\u001b[1;33m\u001b[0m\u001b[1;33m\u001b[0m\u001b[0m\n\u001b[0m\u001b[0;32m     72\u001b[0m     \u001b[0mtype_true\u001b[0m \u001b[1;33m=\u001b[0m \u001b[0mtype_of_target\u001b[0m\u001b[1;33m(\u001b[0m\u001b[0my_true\u001b[0m\u001b[1;33m)\u001b[0m\u001b[1;33m\u001b[0m\u001b[1;33m\u001b[0m\u001b[0m\n\u001b[0;32m     73\u001b[0m     \u001b[0mtype_pred\u001b[0m \u001b[1;33m=\u001b[0m \u001b[0mtype_of_target\u001b[0m\u001b[1;33m(\u001b[0m\u001b[0my_pred\u001b[0m\u001b[1;33m)\u001b[0m\u001b[1;33m\u001b[0m\u001b[1;33m\u001b[0m\u001b[0m\n",
      "\u001b[1;32m~\\Anaconda3\\lib\\site-packages\\sklearn\\utils\\validation.py\u001b[0m in \u001b[0;36mcheck_consistent_length\u001b[1;34m(*arrays)\u001b[0m\n\u001b[0;32m    203\u001b[0m     \u001b[1;32mif\u001b[0m \u001b[0mlen\u001b[0m\u001b[1;33m(\u001b[0m\u001b[0muniques\u001b[0m\u001b[1;33m)\u001b[0m \u001b[1;33m>\u001b[0m \u001b[1;36m1\u001b[0m\u001b[1;33m:\u001b[0m\u001b[1;33m\u001b[0m\u001b[1;33m\u001b[0m\u001b[0m\n\u001b[0;32m    204\u001b[0m         raise ValueError(\"Found input variables with inconsistent numbers of\"\n\u001b[1;32m--> 205\u001b[1;33m                          \" samples: %r\" % [int(l) for l in lengths])\n\u001b[0m\u001b[0;32m    206\u001b[0m \u001b[1;33m\u001b[0m\u001b[0m\n\u001b[0;32m    207\u001b[0m \u001b[1;33m\u001b[0m\u001b[0m\n",
      "\u001b[1;31mValueError\u001b[0m: Found input variables with inconsistent numbers of samples: [0, 1]"
     ]
    }
   ],
   "source": [
    "confusion_matrix(actual_list,predict_list)"
   ]
  },
  {
   "cell_type": "code",
   "execution_count": null,
   "metadata": {},
   "outputs": [],
   "source": []
  }
 ],
 "metadata": {
  "kernelspec": {
   "display_name": "Python 3",
   "language": "python",
   "name": "python3"
  },
  "language_info": {
   "codemirror_mode": {
    "name": "ipython",
    "version": 3
   },
   "file_extension": ".py",
   "mimetype": "text/x-python",
   "name": "python",
   "nbconvert_exporter": "python",
   "pygments_lexer": "ipython3",
   "version": "3.7.3-final"
  }
 },
 "nbformat": 4,
 "nbformat_minor": 2
}