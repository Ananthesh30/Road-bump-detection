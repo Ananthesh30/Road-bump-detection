{
 "cells": [
  {
   "cell_type": "code",
   "execution_count": 7,
   "metadata": {},
   "outputs": [],
   "source": [
    "import os\n",
    "import pandas as pd\n",
    ""
   ]
  },
  {
   "cell_type": "code",
   "execution_count": 8,
   "metadata": {},
   "outputs": [],
   "source": [
    "directories=os.listdir('./Test')\n",
    "cnt=0\n",
    "path='./Test'\n",
    "ans=pd.DataFrame()\n",
    "for i in directories:\n",
    "    name=os.listdir(f\"{path}/{i}\")\n",
    "    csv_train={'name':[f\"{path}/{i}/\"+j for j in name],'label':cnt}\n",
    "    df=pd.DataFrame(csv_train)\n",
    "    ans=ans.append(df)\n",
    "    cnt+=1\n",
    "\n",
    "ans.to_csv('./test_label.csv')"
   ]
  },
  {
   "cell_type": "code",
   "execution_count": null,
   "metadata": {},
   "outputs": [],
   "source": []
  },
  {
   "cell_type": "code",
   "execution_count": null,
   "metadata": {},
   "outputs": [],
   "source": []
  }
 ],
 "metadata": {
  "kernelspec": {
   "display_name": "Python 3",
   "language": "python",
   "name": "python3"
  },
  "language_info": {
   "codemirror_mode": {
    "name": "ipython",
    "version": 3
   },
   "file_extension": ".py",
   "mimetype": "text/x-python",
   "name": "python",
   "nbconvert_exporter": "python",
   "pygments_lexer": "ipython3",
   "version": "3.7.3-final"
  }
 },
 "nbformat": 4,
 "nbformat_minor": 2
}